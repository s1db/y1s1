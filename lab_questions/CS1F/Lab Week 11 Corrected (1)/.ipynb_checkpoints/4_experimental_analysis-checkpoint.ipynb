{
 "cells": [
  {
   "cell_type": "markdown",
   "metadata": {},
   "source": [
    "# CS1F: Assessed exercise (Part 4)\n",
    "This exercise is worth 8% of your mark in total for CS1F.\n",
    "It should be completed in your assigned group.\n",
    "\n",
    "This exercise has four stages, in consecutive CS1F lab sessions:\n",
    "\n",
    "1. Designing a conceptual model of an interface.\n",
    "2. Implementing a state machine.\n",
    "3. Linking states to continuous control signals.\n",
    "4. Experimental analysis of usability.\n",
    "\n",
    "**You will require your results from previous weeks in each successive exercise!**\n",
    "\n",
    "**This notebook will be submitted as your assessment for this part. Make sure you submit `4_experimental_analysis.ipynb` on Moodle.**\n",
    "\n",
    "<img src=\"imgs/flashlight_design.png\" width=\"60%\">\n",
    "\n",
    "# Details\n",
    "This file will be submitted. **You must enter your details in this cell or your work cannot be marked.** List each team member in the form, `name: student_id` in the cell below. Double-click to edit the text. Add or remove lines as required."
   ]
  },
  {
   "cell_type": "markdown",
   "metadata": {},
   "source": [
    "### Your Name\n",
    "* NAME: STUDENT_ID\n"
   ]
  },
  {
   "cell_type": "markdown",
   "metadata": {},
   "source": [
    "## Experiment and analysis\n",
    "\n",
    "In this lab, you will test your design from the previous weeks.  You will perform a simple experiment to evaluate the usability of your flashlight interface. \n",
    "\n",
    "### User exchange\n",
    "To make the evaluation realistic, your design will be tested by a user from *another team*, who is not familiar with the design of your flashlight.   **Designate one member of your team as the experimental subject *now* and exchange them among teams; your tutor will coordinate which teams exchange with each other.**\n",
    "\n",
    "---\n",
    "\n",
    "Before starting the experiments, read the following carefully.\n",
    "\n",
    "### Assumptions\n",
    "We will make a number of simplifying assumptions to make this achievable in a single lab session.\n",
    "\n",
    "* You will only test with a single **user**.  Real-world experiments would need many users to see how performance varied across users, and take into account demographic attributes of the user population (e.g. are elderly users slower at getting the flashlight turned on in an emergency?).\n",
    "\n",
    "* You will only test your own **design**. Most real experiments would involve comparing multiple designs, with different tradeoffs among design parameters.\n",
    "\n",
    "* You will have a predefined set of **tasks** to complete, like \"switch the flashlight on, then off again\". In a real evaluation, you would have to design the tasks yourself to identify the usability problems.\n",
    "\n",
    "* You will have a predefined set of **conditions** which measure performance under specific constraints, like with noisy slider inputs or smoothing applied. Again, this is something that would have to be carefully designed in a real evaluation. These are the **independent variables**; the parameters we are controlling.\n",
    "\n",
    "* You will have a predefined set of **metrics** to measure performance, like number of errors made and time taken. In real experiments, these would have to be designed for the problem. These are the **dependent variables** where we measure the effect of manipulating the **independent variables** (conditions)."
   ]
  },
  {
   "cell_type": "markdown",
   "metadata": {},
   "source": [
    "### Experimental design\n",
    "Every experiment requires a formally defined design. The experimental design and protocol for the experiment is provided for you.\n",
    "\n",
    "* You will have **one user**\n",
    "* This user will test **one design**\n",
    "* This design will be tested in three **conditions**. \n",
    "    * **A** noise-free\n",
    "    * **B** noisy\n",
    "    * **C** noise-smoothed\n",
    "* Each condition will involve completing five **tasks**, and each task consists of getting the flashlight into a sequence of states.\n",
    "* Each task will be repeated for five **repetitions**. Repeating a trial helps control the random variations in an experiment, and also mitigates the *learning effect*, where practiced actions are easier than new ones.\n",
    "\n",
    "This means one experiment involves `(1 user) x (1 design) x (3 conditions) x (5 tasks) x (5 repetitions) = 75 tasks`"
   ]
  },
  {
   "cell_type": "markdown",
   "metadata": {},
   "source": [
    "#### Experimental protocol\n",
    "**Review the ethics checklist on Moodle before beginning. You must confirm that this protocol complies with the ethics checklist before beginning the experiment.**\n",
    "\n",
    "The **protocol** for the experiment must also be precisely specified.\n",
    "\n",
    "##### Familiarisation\n",
    "* At the start of the experiment, the experimental subject should be seated in front of the computer.\n",
    "* They should be given a short verbal instruction in how the flashlight design works (1-2 minutes) along with a demo.\n",
    "* They should then be allowed to test the flashlight simulation themselves for a 1-2 minutes in the \"test\" mode to \n",
    "familiarise themselves. This should establish that they can get the flashlight into all five states: \"off\", \"locked\", \"strobe\", \"high\", \"on\".\n",
    "\n",
    "##### Running the experiment\n",
    "* The experiment should then run, in the order condition A, condition B, condition C. **Note that real experiments would need to counterbalance order of conditions among subjects to reduce the influence of learning effects; but this isn't possible with just one user**.\n",
    "* In each condition, the subject will see a list of states they have to achieve; for example \"OFF -> ON -> STROBE -> LOW -> OFF\". These will be randomly ordered from the five predefined tasks to complete. They will complete 25 tasks in total; repeating each task five times, but with randomly ordered repetitions.\n",
    "\n",
    "\n",
    "### Data logging\n",
    "The flashlight simulator will log data for you. It will store the results of trials as [JSON files](https://en.wikipedia.org/wiki/JSON), which are just text representations of Python lists/dictionaries. When you come to analyse the data, you will have some template code that will load the files from a trial and plot simple graphs of metrics for you."
   ]
  },
  {
   "cell_type": "markdown",
   "metadata": {},
   "source": [
    "# Setup and testing\n",
    "In the cell below, paste your design from last week (which uses the phase space regions). Run and test it works with the experimental system. This \"test mode\" should be used to familiarise your experimental subject with the system, as explained in the protocol above.\n",
    " \n",
    "Observe that there is a task specified (top of the window), indicating states remaining that user must go into. After reaching a state in the task list, it will be removed from the states to complete. When all states have been achieved, the system will automatically start the next task. The number of tasks remaining is shown. When all tasks are complete, the experiment ends automatically and results will be written to a log file.\n",
    "\n",
    "Test this carefully before going further.\n",
    " \n",
    " "
   ]
  },
  {
   "cell_type": "code",
   "execution_count": 13,
   "metadata": {},
   "outputs": [
    {
     "name": "stdout",
     "output_type": "stream",
     "text": [
      "Task complete!\n",
      "********************************************************************************\n",
      "LOG FILE WRITTEN TO  json/test/trial_2019-12-04-14-15-23.json\n",
      "1 tasks recorded\n",
      "********************************************************************************\n"
     ]
    },
    {
     "name": "stderr",
     "output_type": "stream",
     "text": [
      "Exception in Tkinter callback\n",
      "Traceback (most recent call last):\n",
      "  File \"/Users/julierwilliamson/anaconda3/lib/python3.7/tkinter/__init__.py\", line 1702, in __call__\n",
      "    return self.func(*args)\n",
      "  File \"/Users/julierwilliamson/anaconda3/lib/python3.7/tkinter/__init__.py\", line 746, in callit\n",
      "    func(*args)\n",
      "  File \"/Users/julierwilliamson/Dropbox/CS1F Lab/HCILab 2019/fsm_viewer.py\", line 529, in tick\n",
      "    self.update_tasks()\n",
      "  File \"/Users/julierwilliamson/Dropbox/CS1F Lab/HCILab 2019/fsm_viewer.py\", line 348, in update_tasks\n",
      "    n=self.n_tasks)) +\" ⇒ \".join(self.current_task)\n",
      "  File \"/Users/julierwilliamson/anaconda3/lib/python3.7/tkinter/__init__.py\", line 1489, in __setitem__\n",
      "    self.configure({key: value})\n",
      "  File \"/Users/julierwilliamson/anaconda3/lib/python3.7/tkinter/__init__.py\", line 1482, in configure\n",
      "    return self._configure('configure', cnf, kw)\n",
      "  File \"/Users/julierwilliamson/anaconda3/lib/python3.7/tkinter/__init__.py\", line 1473, in _configure\n",
      "    self.tk.call(_flatten((self._w, cmd)) + self._options(cnf))\n",
      "_tkinter.TclError: invalid command name \".!frame.!label2\"\n"
     ]
    }
   ],
   "source": [
    "from fsm_logger import run_trial, trial_dataframes\n",
    "\n",
    "########## Replace the below with your design #########\n",
    "# how do we get from state to state via actions\n",
    "# bad_fsm = {\n",
    "#           (\"off:off\", \"fast_left:exit\") : \"on:on\",\n",
    "#           (\"on:on\",   \"fast_left:exit\") : \"off:off\",\n",
    "#           (\"on:on\", \"fast_left:exit\") : \"strobe:strobe\",\n",
    "#           (\"strobe:strobe\", \"fast_left:exit\") : \"off:off\",\n",
    "#           (\"off:off\" , )\n",
    "\n",
    "#     }\n",
    "\n",
    "bad_fsm ={\n",
    "          (\"on:on\",   0.1) : \"off:off\",\n",
    "          (\"off:off\",   0.1) : \"strobe:strobe\",\n",
    "          (\"strobe:strobe\",   0.1) : \"off_again:off\",\n",
    "          (\"off_again:off\",   0.1) : \"high:high\",\n",
    "          (\"high:high\",   0.1) : \"off_three:off\",\n",
    "          (\"off_three:off\",   0.1) : \"locked:locked\",\n",
    "          (\"locked:locked\", 0.1) : \"on:on\",\n",
    "    }\n",
    "\n",
    "# what continuous signals trigger actions?\n",
    "example_phase_regions = {\n",
    "        # name       # min_position, max_position, min_velocity, max_velocity\n",
    "        \"fast_left\":   [0.0, 0.5, 0.5, 10.0],\n",
    "        \"fast_right\":   [0.5, 0.1, 0.5, 10.0],        \n",
    "        \"slow_right\" : [0.25, 0.5, -0.1, -0.35]\n",
    "    }\n",
    "\n",
    "#########################################################\n",
    "\n",
    "# You can run this trial as many times as you want\n",
    "# the results will not be stored for the \"test\" condition\n",
    "run_trial(machine=bad_fsm, start_state=\"off:off\", \n",
    "          regions=example_phase_regions, \n",
    "          condition=\"test\")\n",
    "%gui xtk"
   ]
  },
  {
   "cell_type": "markdown",
   "metadata": {},
   "source": [
    "# Experiment"
   ]
  },
  {
   "cell_type": "markdown",
   "metadata": {},
   "source": [
    "## Familiarise\n",
    "* Explain how your flashlight works to your subject, demoing using the cell above.\n",
    "* Allow the participant to test the flashlight themselves, completing the demo task themselves before continuing."
   ]
  },
  {
   "cell_type": "markdown",
   "metadata": {},
   "source": [
    "## Conditions\n",
    "Running each of the cells with run the experiment for one condition, and write the results to a JSON log file. \n",
    "\n",
    "**Make sure you update these cells to use YOUR design!**\n",
    "\n",
    "* If something goes wrong, you will have to restart the condition; close the window and start the condition again.\n",
    "* Verify that you see a message indicating that the log file has been written at the end of each condition.\n",
    "* The analysis will always look at the **last** log file for a condition that was run. \n",
    "* Do not exit the experimental trial while it is running; wait for the user to complete all repetitions, and the trial will stop automatically.\n"
   ]
  },
  {
   "cell_type": "markdown",
   "metadata": {},
   "source": [
    "### A"
   ]
  },
  {
   "cell_type": "code",
   "execution_count": 14,
   "metadata": {},
   "outputs": [
    {
     "name": "stdout",
     "output_type": "stream",
     "text": [
      "Task complete!\n",
      "Task complete!\n",
      "Task complete!\n",
      "Task complete!\n",
      "Task complete!\n",
      "Task complete!\n",
      "Task complete!\n",
      "Task complete!\n",
      "Task complete!\n",
      "Task complete!\n",
      "Task complete!\n",
      "Task complete!\n",
      "Task complete!\n",
      "Task complete!\n",
      "Task complete!\n",
      "Task complete!\n",
      "Task complete!\n",
      "Task complete!\n",
      "Task complete!\n",
      "Task complete!\n",
      "Task complete!\n",
      "Task complete!\n",
      "Task complete!\n",
      "Task complete!\n",
      "Task complete!\n",
      "********************************************************************************\n",
      "LOG FILE WRITTEN TO  json/a/trial_2019-12-04-14-15-37.json\n",
      "25 tasks recorded\n",
      "********************************************************************************\n"
     ]
    },
    {
     "name": "stderr",
     "output_type": "stream",
     "text": [
      "Exception in Tkinter callback\n",
      "Traceback (most recent call last):\n",
      "  File \"/Users/julierwilliamson/anaconda3/lib/python3.7/tkinter/__init__.py\", line 1702, in __call__\n",
      "    return self.func(*args)\n",
      "  File \"/Users/julierwilliamson/anaconda3/lib/python3.7/tkinter/__init__.py\", line 746, in callit\n",
      "    func(*args)\n",
      "  File \"/Users/julierwilliamson/Dropbox/CS1F Lab/HCILab 2019/fsm_viewer.py\", line 529, in tick\n",
      "    self.update_tasks()\n",
      "  File \"/Users/julierwilliamson/Dropbox/CS1F Lab/HCILab 2019/fsm_viewer.py\", line 348, in update_tasks\n",
      "    n=self.n_tasks)) +\" ⇒ \".join(self.current_task)\n",
      "  File \"/Users/julierwilliamson/anaconda3/lib/python3.7/tkinter/__init__.py\", line 1489, in __setitem__\n",
      "    self.configure({key: value})\n",
      "  File \"/Users/julierwilliamson/anaconda3/lib/python3.7/tkinter/__init__.py\", line 1482, in configure\n",
      "    return self._configure('configure', cnf, kw)\n",
      "  File \"/Users/julierwilliamson/anaconda3/lib/python3.7/tkinter/__init__.py\", line 1473, in _configure\n",
      "    self.tk.call(_flatten((self._w, cmd)) + self._options(cnf))\n",
      "_tkinter.TclError: invalid command name \".!frame.!label2\"\n"
     ]
    }
   ],
   "source": [
    "run_trial(machine=bad_fsm, start_state=\"off:off\", regions=example_phase_regions, condition=\"a\")"
   ]
  },
  {
   "cell_type": "markdown",
   "metadata": {},
   "source": [
    "### B"
   ]
  },
  {
   "cell_type": "code",
   "execution_count": 15,
   "metadata": {},
   "outputs": [
    {
     "name": "stdout",
     "output_type": "stream",
     "text": [
      "Task complete!\n",
      "Task complete!\n",
      "Task complete!\n",
      "Task complete!\n",
      "Task complete!\n",
      "Task complete!\n",
      "Task complete!\n",
      "Task complete!\n",
      "Task complete!\n",
      "Task complete!\n",
      "Task complete!\n",
      "Task complete!\n",
      "Task complete!\n",
      "Task complete!\n",
      "Task complete!\n",
      "Task complete!\n",
      "Task complete!\n",
      "Task complete!\n",
      "Task complete!\n",
      "Task complete!\n",
      "Task complete!\n",
      "Task complete!\n",
      "Task complete!\n",
      "Task complete!\n",
      "Task complete!\n",
      "********************************************************************************\n",
      "LOG FILE WRITTEN TO  json/b/trial_2019-12-04-14-19-42.json\n",
      "25 tasks recorded\n",
      "********************************************************************************\n"
     ]
    },
    {
     "name": "stderr",
     "output_type": "stream",
     "text": [
      "Exception in Tkinter callback\n",
      "Traceback (most recent call last):\n",
      "  File \"/Users/julierwilliamson/anaconda3/lib/python3.7/tkinter/__init__.py\", line 1702, in __call__\n",
      "    return self.func(*args)\n",
      "  File \"/Users/julierwilliamson/anaconda3/lib/python3.7/tkinter/__init__.py\", line 746, in callit\n",
      "    func(*args)\n",
      "  File \"/Users/julierwilliamson/Dropbox/CS1F Lab/HCILab 2019/fsm_viewer.py\", line 529, in tick\n",
      "    self.update_tasks()\n",
      "  File \"/Users/julierwilliamson/Dropbox/CS1F Lab/HCILab 2019/fsm_viewer.py\", line 348, in update_tasks\n",
      "    n=self.n_tasks)) +\" ⇒ \".join(self.current_task)\n",
      "  File \"/Users/julierwilliamson/anaconda3/lib/python3.7/tkinter/__init__.py\", line 1489, in __setitem__\n",
      "    self.configure({key: value})\n",
      "  File \"/Users/julierwilliamson/anaconda3/lib/python3.7/tkinter/__init__.py\", line 1482, in configure\n",
      "    return self._configure('configure', cnf, kw)\n",
      "  File \"/Users/julierwilliamson/anaconda3/lib/python3.7/tkinter/__init__.py\", line 1473, in _configure\n",
      "    self.tk.call(_flatten((self._w, cmd)) + self._options(cnf))\n",
      "_tkinter.TclError: invalid command name \".!frame.!label2\"\n"
     ]
    }
   ],
   "source": [
    "run_trial(machine=bad_fsm, start_state=\"off:off\", regions=example_phase_regions, condition=\"b\")"
   ]
  },
  {
   "cell_type": "markdown",
   "metadata": {},
   "source": [
    "### C"
   ]
  },
  {
   "cell_type": "code",
   "execution_count": 16,
   "metadata": {},
   "outputs": [
    {
     "name": "stdout",
     "output_type": "stream",
     "text": [
      "Task complete!\n",
      "Task complete!\n",
      "Task complete!\n",
      "Task complete!\n",
      "Task complete!\n",
      "Task complete!\n",
      "Task complete!\n",
      "Task complete!\n",
      "Task complete!\n",
      "Task complete!\n",
      "Task complete!\n",
      "Task complete!\n",
      "Task complete!\n",
      "Task complete!\n",
      "Task complete!\n",
      "Task complete!\n",
      "Task complete!\n",
      "Task complete!\n",
      "Task complete!\n",
      "Task complete!\n",
      "Task complete!\n",
      "Task complete!\n",
      "Task complete!\n",
      "Task complete!\n",
      "Task complete!\n",
      "********************************************************************************\n",
      "LOG FILE WRITTEN TO  json/c/trial_2019-12-04-14-21-58.json\n",
      "25 tasks recorded\n",
      "********************************************************************************\n"
     ]
    },
    {
     "name": "stderr",
     "output_type": "stream",
     "text": [
      "Exception in Tkinter callback\n",
      "Traceback (most recent call last):\n",
      "  File \"/Users/julierwilliamson/anaconda3/lib/python3.7/tkinter/__init__.py\", line 1702, in __call__\n",
      "    return self.func(*args)\n",
      "  File \"/Users/julierwilliamson/anaconda3/lib/python3.7/tkinter/__init__.py\", line 746, in callit\n",
      "    func(*args)\n",
      "  File \"/Users/julierwilliamson/Dropbox/CS1F Lab/HCILab 2019/fsm_viewer.py\", line 529, in tick\n",
      "    self.update_tasks()\n",
      "  File \"/Users/julierwilliamson/Dropbox/CS1F Lab/HCILab 2019/fsm_viewer.py\", line 348, in update_tasks\n",
      "    n=self.n_tasks)) +\" ⇒ \".join(self.current_task)\n",
      "  File \"/Users/julierwilliamson/anaconda3/lib/python3.7/tkinter/__init__.py\", line 1489, in __setitem__\n",
      "    self.configure({key: value})\n",
      "  File \"/Users/julierwilliamson/anaconda3/lib/python3.7/tkinter/__init__.py\", line 1482, in configure\n",
      "    return self._configure('configure', cnf, kw)\n",
      "  File \"/Users/julierwilliamson/anaconda3/lib/python3.7/tkinter/__init__.py\", line 1473, in _configure\n",
      "    self.tk.call(_flatten((self._w, cmd)) + self._options(cnf))\n",
      "_tkinter.TclError: invalid command name \".!frame.!label2\"\n"
     ]
    }
   ],
   "source": [
    "run_trial(machine=bad_fsm, start_state=\"off:off\", regions=example_phase_regions, condition=\"c\")"
   ]
  },
  {
   "cell_type": "markdown",
   "metadata": {},
   "source": []
  },
  {
   "cell_type": "markdown",
   "metadata": {},
   "source": [
    "\n",
    "# Analysis\n",
    "We can now analyse the experimental results. The code below will load the results from the three different conditions, and it will plot simple bar charts showing the mean and standard deviation for three different metrics:\n",
    "    \n",
    "* **time taken** seconds to complete the task.\n",
    "* **actions required** number of actions user had to take to get through the state sequence.\n",
    "* **unwanted states** number of flashlight states user went through that were *not* part of the intended state sequence (e.g. if the user had to go through the \"on\" state to get between \"off\" and \"high\"; this could be due to design or due to user error).\n",
    "\n",
    "\n",
    "## Simple summary graphs\n"
   ]
  },
  {
   "cell_type": "code",
   "execution_count": 96,
   "metadata": {},
   "outputs": [],
   "source": [
    "import os, json\n",
    "\n",
    "# dummy data\n",
    "tasks = [\n",
    "    [\"off\", \"on\", \"off\"],\n",
    "    [\"off\", \"strobe\", \"low\"],\n",
    "    [\"off\", \"strobe\", \"on\", \"high\", \"on\"],\n",
    "    [\"off\", \"locked\", \"low\", \"high\", \"strobe\", \"off\", \"locked\"],\n",
    "    [\"off\", \"low\", \"high\", \"low\", \"off\", \"low\"]]\n",
    "task_names = [\"-\".join(t) for t in tasks]\n",
    "\n",
    "def fake_trial_dataframes(c):\n",
    "    return [\n",
    "        [random.choice(task_names), random.uniform(0.5, 10.0), random.randint(1,20),\n",
    "         random.randint(0,5)] for i in range(75)]\n",
    "\n",
    "def load_trial_dataframes(c):\n",
    "    json_files = [fname for fname in os.listdir(\"json/{condition}\".format(condition=condition)) if fname.endswith(\".json\")]    \n",
    "    assert(len(json_files)>0)\n",
    "    fname = sorted(json_files)[-1]\n",
    "    with open(os.path.join(\"json\", condition, fname)) as f:\n",
    "        p = pd.DataFrame(json.load(f))\n",
    "        p[\"condition\"] = c\n",
    "    return p"
   ]
  },
  {
   "cell_type": "code",
   "execution_count": null,
   "metadata": {},
   "outputs": [],
   "source": []
  },
  {
   "cell_type": "code",
   "execution_count": 97,
   "metadata": {},
   "outputs": [],
   "source": [
    "import random\n",
    "\n",
    "import pandas as pd\n",
    "pd.set_option('precision', 2)\n",
    "\n",
    "# load each of the results, converting to a dataframe\n",
    "results = [pd.DataFrame(load_trial_dataframes(c)) for c in [\"a\", \"b\", \"c\"]]\n",
    "# label each condition\n",
    "# for result, condition in zip(results, [\"a\", \"b\", \"c\"]):\n",
    "#     result[\"condition\"] = condition\n",
    "# merge into a single dataframe    \n",
    "merged = pd.concat(results)\n",
    "\n",
    "merged.columns = [\"task_name\", \"duration\",\"actions\",\"extra_states\", \"condition\"]\n",
    "\n"
   ]
  },
  {
   "cell_type": "markdown",
   "metadata": {},
   "source": [
    "## Summary figures\n",
    "The code below shows the summary statistics for this data, across all conditions and all tasks. It shows the counts of each task, the mean standard deviation, median and maximum values."
   ]
  },
  {
   "cell_type": "code",
   "execution_count": 98,
   "metadata": {},
   "outputs": [
    {
     "data": {
      "text/html": [
       "<div>\n",
       "<style scoped>\n",
       "    .dataframe tbody tr th:only-of-type {\n",
       "        vertical-align: middle;\n",
       "    }\n",
       "\n",
       "    .dataframe tbody tr th {\n",
       "        vertical-align: top;\n",
       "    }\n",
       "\n",
       "    .dataframe thead th {\n",
       "        text-align: right;\n",
       "    }\n",
       "</style>\n",
       "<table border=\"1\" class=\"dataframe\">\n",
       "  <thead>\n",
       "    <tr style=\"text-align: right;\">\n",
       "      <th></th>\n",
       "      <th>duration</th>\n",
       "      <th>actions</th>\n",
       "      <th>extra_states</th>\n",
       "    </tr>\n",
       "  </thead>\n",
       "  <tbody>\n",
       "    <tr>\n",
       "      <th>count</th>\n",
       "      <td>75.00</td>\n",
       "      <td>75.0</td>\n",
       "      <td>75.00</td>\n",
       "    </tr>\n",
       "    <tr>\n",
       "      <th>mean</th>\n",
       "      <td>1.31</td>\n",
       "      <td>0.0</td>\n",
       "      <td>8.48</td>\n",
       "    </tr>\n",
       "    <tr>\n",
       "      <th>std</th>\n",
       "      <td>0.66</td>\n",
       "      <td>0.0</td>\n",
       "      <td>5.31</td>\n",
       "    </tr>\n",
       "    <tr>\n",
       "      <th>min</th>\n",
       "      <td>0.30</td>\n",
       "      <td>0.0</td>\n",
       "      <td>0.00</td>\n",
       "    </tr>\n",
       "    <tr>\n",
       "      <th>50%</th>\n",
       "      <td>1.44</td>\n",
       "      <td>0.0</td>\n",
       "      <td>9.00</td>\n",
       "    </tr>\n",
       "    <tr>\n",
       "      <th>max</th>\n",
       "      <td>2.25</td>\n",
       "      <td>0.0</td>\n",
       "      <td>16.00</td>\n",
       "    </tr>\n",
       "  </tbody>\n",
       "</table>\n",
       "</div>"
      ],
      "text/plain": [
       "       duration  actions  extra_states\n",
       "count     75.00     75.0         75.00\n",
       "mean       1.31      0.0          8.48\n",
       "std        0.66      0.0          5.31\n",
       "min        0.30      0.0          0.00\n",
       "50%        1.44      0.0          9.00\n",
       "max        2.25      0.0         16.00"
      ]
     },
     "execution_count": 98,
     "metadata": {},
     "output_type": "execute_result"
    }
   ],
   "source": [
    "merged.describe(percentiles=[0.5])\n"
   ]
  },
  {
   "cell_type": "markdown",
   "metadata": {},
   "source": [
    "## Summary plots (all tasks)\n",
    "The plots below show the mean and standard deviation across all tasks, for each of the three metrics and each of three conditions."
   ]
  },
  {
   "cell_type": "code",
   "execution_count": 99,
   "metadata": {},
   "outputs": [
    {
     "data": {
      "image/png": "[encoded data removed]",
      "text/plain": [
       "<Figure size 1008x288 with 2 Axes>"
      ]
     },
     "metadata": {
      "needs_background": "light"
     },
     "output_type": "display_data"
    }
   ],
   "source": [
    "import numpy as np\n",
    "import matplotlib as mpl\n",
    "import matplotlib.pyplot as plt\n",
    "%matplotlib inline\n",
    "\n",
    "def plot_grouped(df, title=\"\"):\n",
    "    group_means = df.groupby(\"condition\").mean()\n",
    "    group_stds = df.groupby(\"condition\").std()\n",
    "    # mean is bar height\n",
    "    # error bars are one standard deviation\n",
    "    fig = plt.figure(figsize=(14,4))\n",
    "    for i, attribute in enumerate([\"duration\", \"extra_states\"]):    \n",
    "        ax = fig.add_subplot(1,3,i+1)\n",
    "        group_means[attribute].plot.bar(yerr=group_stds[attribute], capsize=5)\n",
    "        ax.set_ylabel(attribute)\n",
    "        ax.set_title(\"{attr} versus condition\".format(attr=attribute))    \n",
    "    fig.suptitle(title)\n",
    "    \n",
    "    \n",
    "# plot for *all* the tasks, averaged together\n",
    "plot_grouped(merged)"
   ]
  },
  {
   "cell_type": "code",
   "execution_count": 100,
   "metadata": {},
   "outputs": [
    {
     "data": {
      "text/html": [
       "<div>\n",
       "<style scoped>\n",
       "    .dataframe tbody tr th:only-of-type {\n",
       "        vertical-align: middle;\n",
       "    }\n",
       "\n",
       "    .dataframe tbody tr th {\n",
       "        vertical-align: top;\n",
       "    }\n",
       "\n",
       "    .dataframe thead tr th {\n",
       "        text-align: left;\n",
       "    }\n",
       "\n",
       "    .dataframe thead tr:last-of-type th {\n",
       "        text-align: right;\n",
       "    }\n",
       "</style>\n",
       "<table border=\"1\" class=\"dataframe\">\n",
       "  <thead>\n",
       "    <tr>\n",
       "      <th></th>\n",
       "      <th colspan=\"6\" halign=\"left\">actions</th>\n",
       "      <th colspan=\"6\" halign=\"left\">duration</th>\n",
       "      <th colspan=\"6\" halign=\"left\">extra_states</th>\n",
       "    </tr>\n",
       "    <tr>\n",
       "      <th></th>\n",
       "      <th>count</th>\n",
       "      <th>mean</th>\n",
       "      <th>std</th>\n",
       "      <th>min</th>\n",
       "      <th>50%</th>\n",
       "      <th>max</th>\n",
       "      <th>count</th>\n",
       "      <th>mean</th>\n",
       "      <th>std</th>\n",
       "      <th>min</th>\n",
       "      <th>50%</th>\n",
       "      <th>max</th>\n",
       "      <th>count</th>\n",
       "      <th>mean</th>\n",
       "      <th>std</th>\n",
       "      <th>min</th>\n",
       "      <th>50%</th>\n",
       "      <th>max</th>\n",
       "    </tr>\n",
       "    <tr>\n",
       "      <th>condition</th>\n",
       "      <th></th>\n",
       "      <th></th>\n",
       "      <th></th>\n",
       "      <th></th>\n",
       "      <th></th>\n",
       "      <th></th>\n",
       "      <th></th>\n",
       "      <th></th>\n",
       "      <th></th>\n",
       "      <th></th>\n",
       "      <th></th>\n",
       "      <th></th>\n",
       "      <th></th>\n",
       "      <th></th>\n",
       "      <th></th>\n",
       "      <th></th>\n",
       "      <th></th>\n",
       "      <th></th>\n",
       "    </tr>\n",
       "  </thead>\n",
       "  <tbody>\n",
       "    <tr>\n",
       "      <th>a</th>\n",
       "      <td>25.0</td>\n",
       "      <td>0.0</td>\n",
       "      <td>0.0</td>\n",
       "      <td>0.0</td>\n",
       "      <td>0.0</td>\n",
       "      <td>0.0</td>\n",
       "      <td>25.0</td>\n",
       "      <td>1.31</td>\n",
       "      <td>0.67</td>\n",
       "      <td>0.3</td>\n",
       "      <td>1.44</td>\n",
       "      <td>2.25</td>\n",
       "      <td>25.0</td>\n",
       "      <td>8.48</td>\n",
       "      <td>5.38</td>\n",
       "      <td>0.0</td>\n",
       "      <td>9.0</td>\n",
       "      <td>16.0</td>\n",
       "    </tr>\n",
       "    <tr>\n",
       "      <th>b</th>\n",
       "      <td>25.0</td>\n",
       "      <td>0.0</td>\n",
       "      <td>0.0</td>\n",
       "      <td>0.0</td>\n",
       "      <td>0.0</td>\n",
       "      <td>0.0</td>\n",
       "      <td>25.0</td>\n",
       "      <td>1.31</td>\n",
       "      <td>0.67</td>\n",
       "      <td>0.3</td>\n",
       "      <td>1.44</td>\n",
       "      <td>2.25</td>\n",
       "      <td>25.0</td>\n",
       "      <td>8.48</td>\n",
       "      <td>5.38</td>\n",
       "      <td>0.0</td>\n",
       "      <td>9.0</td>\n",
       "      <td>16.0</td>\n",
       "    </tr>\n",
       "    <tr>\n",
       "      <th>c</th>\n",
       "      <td>25.0</td>\n",
       "      <td>0.0</td>\n",
       "      <td>0.0</td>\n",
       "      <td>0.0</td>\n",
       "      <td>0.0</td>\n",
       "      <td>0.0</td>\n",
       "      <td>25.0</td>\n",
       "      <td>1.31</td>\n",
       "      <td>0.67</td>\n",
       "      <td>0.3</td>\n",
       "      <td>1.44</td>\n",
       "      <td>2.25</td>\n",
       "      <td>25.0</td>\n",
       "      <td>8.48</td>\n",
       "      <td>5.38</td>\n",
       "      <td>0.0</td>\n",
       "      <td>9.0</td>\n",
       "      <td>16.0</td>\n",
       "    </tr>\n",
       "  </tbody>\n",
       "</table>\n",
       "</div>"
      ],
      "text/plain": [
       "          actions                          duration                         \\\n",
       "            count mean  std  min  50%  max    count  mean   std  min   50%   \n",
       "condition                                                                    \n",
       "a            25.0  0.0  0.0  0.0  0.0  0.0     25.0  1.31  0.67  0.3  1.44   \n",
       "b            25.0  0.0  0.0  0.0  0.0  0.0     25.0  1.31  0.67  0.3  1.44   \n",
       "c            25.0  0.0  0.0  0.0  0.0  0.0     25.0  1.31  0.67  0.3  1.44   \n",
       "\n",
       "                extra_states                              \n",
       "            max        count  mean   std  min  50%   max  \n",
       "condition                                                 \n",
       "a          2.25         25.0  8.48  5.38  0.0  9.0  16.0  \n",
       "b          2.25         25.0  8.48  5.38  0.0  9.0  16.0  \n",
       "c          2.25         25.0  8.48  5.38  0.0  9.0  16.0  "
      ]
     },
     "execution_count": 100,
     "metadata": {},
     "output_type": "execute_result"
    }
   ],
   "source": [
    "# plot the textual form of the results\n",
    "merged.groupby(\"condition\").describe(percentiles=[0.5])"
   ]
  },
  {
   "cell_type": "markdown",
   "metadata": {},
   "source": [
    "## Detailed plots: task breakdown\n",
    "The plots below show the same results, but broken down for each of the five tasks, so that any differences that only appear in certain tasks are more visible. This is a more detailed view of the data."
   ]
  },
  {
   "cell_type": "code",
   "execution_count": 101,
   "metadata": {},
   "outputs": [
    {
     "data": {
      "image/png": "[encoded data removed]",
      "text/plain": [
       "<Figure size 1008x288 with 2 Axes>"
      ]
     },
     "metadata": {
      "needs_background": "light"
     },
     "output_type": "display_data"
    },
    {
     "data": {
      "image/png": "[encoded data removed]",
      "text/plain": [
       "<Figure size 1008x288 with 2 Axes>"
      ]
     },
     "metadata": {
      "needs_background": "light"
     },
     "output_type": "display_data"
    },
    {
     "data": {
      "image/png": "[encoded data removed]",
      "text/plain": [
       "<Figure size 1008x288 with 2 Axes>"
      ]
     },
     "metadata": {
      "needs_background": "light"
     },
     "output_type": "display_data"
    },
    {
     "data": {
      "image/png": "[encoded data removed]",
      "text/plain": [
       "<Figure size 1008x288 with 2 Axes>"
      ]
     },
     "metadata": {
      "needs_background": "light"
     },
     "output_type": "display_data"
    },
    {
     "data": {
      "image/png": "[encoded data removed]",
      "text/plain": [
       "<Figure size 1008x288 with 2 Axes>"
      ]
     },
     "metadata": {
      "needs_background": "light"
     },
     "output_type": "display_data"
    }
   ],
   "source": [
    "# mean is bar height\n",
    "# error bars are one standard deviation\n",
    "tasks = merged.groupby(\"task_name\")\n",
    "\n",
    "for task_name, task in tasks:    \n",
    "    # plot for each task separately\n",
    "    plot_grouped(task, title=\"TASK: \" + task_name)"
   ]
  },
  {
   "cell_type": "markdown",
   "metadata": {},
   "source": [
    "## Write up: reporting on your conclusions\n",
    "In the cell below, write a short report explaining your *interpretation* of the results you obtained (~250 words).  Consider the following questions in your write up:\n",
    "\n",
    "* What do the graphs indicate about the usability of your design?\n",
    "* What influence did the different experimental conditions have on the usability of your interface?\n",
    "* How confident are you in your conclusions?\n",
    "* How would you adapt your design to work better, *in light of the experimental results*?\n",
    "* What other metrics would have been useful to measure the usability of your design?\n",
    "\n",
    "------\n",
    "\n"
   ]
  },
  {
   "cell_type": "markdown",
   "metadata": {},
   "source": [
    "\n",
    "\n",
    "**Write your report here. (note: double-click on this text to edit it)**"
   ]
  },
  {
   "cell_type": "markdown",
   "metadata": {},
   "source": [
    "------"
   ]
  },
  {
   "cell_type": "markdown",
   "metadata": {},
   "source": [
    "### SUBMISSION INSTRUCTIONS\n",
    "Make sure the graphs from the experiment are visible and that your report is written up clearly. **Save the notebook as ipynb and as a PDF**.\n",
    "Upload the `4_experimental_analysis.ipynb` and your PDF file on Moodle."
   ]
  },
  {
   "cell_type": "code",
   "execution_count": null,
   "metadata": {},
   "outputs": [],
   "source": []
  }
 ],
 "metadata": {
  "kernelspec": {
   "display_name": "Python 3",
   "language": "python",
   "name": "python3"
  },
  "language_info": {
   "codemirror_mode": {
    "name": "ipython",
    "version": 3
   },
   "file_extension": ".py",
   "mimetype": "text/x-python",
   "name": "python",
   "nbconvert_exporter": "python",
   "pygments_lexer": "ipython3",
   "version": "3.7.4"
  },
  "toc": {
   "nav_menu": {},
   "number_sections": true,
   "sideBar": true,
   "skip_h1_title": false,
   "toc_cell": false,
   "toc_position": {},
   "toc_section_display": "block",
   "toc_window_display": false
  }
 },
 "nbformat": 4,
 "nbformat_minor": 2
}
